{
 "cells": [
  {
   "cell_type": "code",
   "execution_count": 1,
   "metadata": {},
   "outputs": [],
   "source": [
    "import tkinter as tk\n",
    "from tkinter import ttk\n",
    "import pyttsx3\n",
    "\n",
    "# Inicializar pyttsx3\n",
    "engine = pyttsx3.init()\n",
    "\n",
    "# Obtener voces disponibles\n",
    "voices = engine.getProperty('voices')\n",
    "\n",
    "def speak():\n",
    "    text = text_entry.get(\"1.0\", tk.END).strip()\n",
    "    if text:\n",
    "        engine.setProperty('rate', speed_scale.get())\n",
    "        engine.setProperty('voice', voices[voice_var.get()].id)\n",
    "        engine.say(text)\n",
    "        engine.runAndWait()\n",
    "\n",
    "# Crear la ventana principal\n",
    "root = tk.Tk()\n",
    "root.title(\"Texto a Voz\")\n",
    "root.geometry(\"400x300\")\n",
    "\n",
    "# Cuadro de texto\n",
    "text_entry = tk.Text(root, height=5, width=40)\n",
    "text_entry.pack(pady=10)\n",
    "\n",
    "# Selección de voz\n",
    "voice_var = tk.IntVar(value=0)\n",
    "tk.Label(root, text=\"Selecciona una voz:\").pack()\n",
    "voice_frame = tk.Frame(root)\n",
    "voice_frame.pack()\n",
    "ttk.Radiobutton(voice_frame, text=\"Voz 1\", variable=voice_var, value=0).pack(side=tk.LEFT)\n",
    "ttk.Radiobutton(voice_frame, text=\"Voz 2\", variable=voice_var, value=1).pack(side=tk.LEFT)\n",
    "\n",
    "# Control de velocidad\n",
    "speed_scale = tk.Scale(root, from_=100, to=300, label=\"Velocidad\", orient=tk.HORIZONTAL)\n",
    "speed_scale.set(200)\n",
    "speed_scale.pack()\n",
    "\n",
    "# Botón para convertir texto en voz\n",
    "speak_button = tk.Button(root, text=\"Reproducir\", command=speak)\n",
    "speak_button.pack(pady=10)\n",
    "\n",
    "# Ejecutar la aplicación\n",
    "root.mainloop()\n"
   ]
  }
 ],
 "metadata": {
  "kernelspec": {
   "display_name": "Python 3",
   "language": "python",
   "name": "python3"
  },
  "language_info": {
   "codemirror_mode": {
    "name": "ipython",
    "version": 3
   },
   "file_extension": ".py",
   "mimetype": "text/x-python",
   "name": "python",
   "nbconvert_exporter": "python",
   "pygments_lexer": "ipython3",
   "version": "3.13.1"
  }
 },
 "nbformat": 4,
 "nbformat_minor": 2
}
