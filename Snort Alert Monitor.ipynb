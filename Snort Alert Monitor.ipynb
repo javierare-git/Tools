{
 "cells": [
  {
   "cell_type": "code",
   "execution_count": null,
   "metadata": {},
   "outputs": [],
   "source": [
    "import time\n",
    "import os\n",
    "import tkinter as tk\n",
    "from tkinter import scrolledtext\n",
    "import winsound  # Para reproducir sonido en Windows (usar `afplay` en macOS o `aplay` en Linux)\n",
    "\n",
    "def play_alert_sound():\n",
    "    try:\n",
    "        winsound.Beep(1000, 500)  # Sonido de alerta (frecuencia, duración en ms)\n",
    "    except:\n",
    "        print(\"Error reproduciendo sonido\")\n",
    "\n",
    "def update_gui(alert):\n",
    "    alert_text.insert(tk.END, f\"[ALERT] {alert}\\n\", \"alert\")\n",
    "    alert_text.see(tk.END)\n",
    "    play_alert_sound()\n",
    "\n",
    "def monitor_snort_alerts(log_file):\n",
    "    if not os.path.exists(log_file):\n",
    "        alert_text.insert(tk.END, \"Log file not found. Please check the Snort configuration.\\n\", \"error\")\n",
    "        return\n",
    "    \n",
    "    with open(log_file, \"r\") as file:\n",
    "        file.seek(0, os.SEEK_END)\n",
    "        \n",
    "        while True:\n",
    "            line = file.readline()\n",
    "            if line:\n",
    "                root.after(0, update_gui, line.strip())\n",
    "            else:\n",
    "                time.sleep(1)\n",
    "\n",
    "# Configurar la ventana Tkinter\n",
    "root = tk.Tk()\n",
    "root.title(\"Snort IDS Alert Monitor\")\n",
    "root.geometry(\"600x400\")\n",
    "\n",
    "alert_text = scrolledtext.ScrolledText(root, wrap=tk.WORD, width=80, height=20)\n",
    "alert_text.pack(padx=10, pady=10, fill=tk.BOTH, expand=True)\n",
    "alert_text.tag_config(\"alert\", foreground=\"red\")\n",
    "alert_text.tag_config(\"error\", foreground=\"blue\")\n",
    "\n",
    "log_path = \"/var/log/snort/alerts.log\"  # Ajusta la ruta si es necesario\n",
    "\n",
    "# Ejecutar el monitoreo en un hilo separado\n",
    "import threading\n",
    "threading.Thread(target=monitor_snort_alerts, args=(log_path,), daemon=True).start()\n",
    "\n",
    "root.mainloop()\n"
   ]
  }
 ],
 "metadata": {
  "language_info": {
   "name": "python"
  }
 },
 "nbformat": 4,
 "nbformat_minor": 2
}
